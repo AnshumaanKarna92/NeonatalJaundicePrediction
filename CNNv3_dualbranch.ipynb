{
 "cells": [
  {
   "cell_type": "code",
   "execution_count": 1,
   "id": "63aaa367",
   "metadata": {},
   "outputs": [],
   "source": [
    "import os\n",
    "import pandas as pd\n",
    "import numpy as np\n",
    "import cv2\n",
    "import matplotlib.pyplot as plt\n",
    "from sklearn.model_selection import train_test_split\n",
    "from sklearn.preprocessing import MinMaxScaler\n",
    "from tensorflow.keras.models import Sequential\n",
    "from tensorflow.keras.layers import Conv1D, MaxPooling1D, Flatten, Dense\n",
    "from tensorflow.keras.optimizers import Adam\n",
    "from tensorflow.keras.callbacks import EarlyStopping\n",
    "from sklearn.metrics import mean_absolute_error, mean_squared_error, r2_score\n",
    "import seaborn as sns"
   ]
  },
  {
   "cell_type": "code",
   "execution_count": 2,
   "id": "9d4ac4a4",
   "metadata": {},
   "outputs": [
    {
     "name": "stdout",
     "output_type": "stream",
     "text": [
      "Dataset preview:\n",
      "   patient_id   image_idx gender  gestational_age  age(day)  weight  \\\n",
      "0           3  0003-1.jpg      F               40       5.2    3280   \n",
      "1           3  0003-2.jpg      F               40       5.2    3280   \n",
      "2           3  0003-3.jpg      F               40       5.2    3280   \n",
      "3          35  0035-1.jpg      M               39       8.7    3760   \n",
      "4          35  0035-2.jpg      M               39       8.7    3760   \n",
      "\n",
      "   blood(mg/dL)  Treatment  \n",
      "0           3.9          0  \n",
      "1           3.9          0  \n",
      "2           3.9          0  \n",
      "3          12.2          0  \n",
      "4          12.2          0  \n"
     ]
    }
   ],
   "source": [
    "CSV_PATH = r\"NeoJaundice\\chd_jaundice_published_2.csv\"\n",
    "IMG_DIR = r\"NeoJaundice\\images\"\n",
    "df = pd.read_csv(CSV_PATH)\n",
    "print(\"Dataset preview:\")\n",
    "print(df.head())"
   ]
  },
  {
   "cell_type": "code",
   "execution_count": 3,
   "id": "3ad2ad4e",
   "metadata": {},
   "outputs": [
    {
     "name": "stdout",
     "output_type": "stream",
     "text": [
      "\n",
      "Loaded 2235 images.\n"
     ]
    }
   ],
   "source": [
    "image_data = []\n",
    "labels = []\n",
    "for idx, row in df.iterrows():\n",
    "    img_path = os.path.join(IMG_DIR, row['image_idx']) \n",
    "    if os.path.exists(img_path):\n",
    "        img = cv2.imread(img_path)\n",
    "        img = cv2.resize(img, (256, 256)) \n",
    "        image_data.append(img)\n",
    "        labels.append(row['blood(mg/dL)'])   \n",
    "image_data = np.array(image_data)\n",
    "labels = np.array(labels)\n",
    "\n",
    "print(f\"\\nLoaded {len(image_data)} images.\")"
   ]
  },
  {
   "cell_type": "code",
   "execution_count": null,
   "id": "00e6c11d",
   "metadata": {},
   "outputs": [
    {
     "ename": "SyntaxError",
     "evalue": "invalid syntax (1369255365.py, line 1)",
     "output_type": "error",
     "traceback": [
      "\u001b[1;36m  Cell \u001b[1;32mIn[12], line 1\u001b[1;36m\u001b[0m\n\u001b[1;33m    preprocess_image(image_data):\u001b[0m\n\u001b[1;37m                                 ^\u001b[0m\n\u001b[1;31mSyntaxError\u001b[0m\u001b[1;31m:\u001b[0m invalid syntax\n"
     ]
    }
   ],
   "source": [
    "preprocess_image(img_path):\n",
    "    img = cv2.imread(img_path)\n",
    "    img_rgb = cv2.resize(cv2.cvtColor(img, cv2.COLOR_BGR2RGB), size)\n",
    "    img_hsv = cv2.resize(cv2.cvtColor(img, cv2.COLOR_BGR2HSV), size)\n",
    "    img_rgb = img_rgb / 255.0\n",
    "    img_hsv = img_hsv / 255.0\n",
    "    return img_rgb, img_hsv"
   ]
  },
  {
   "cell_type": "code",
   "execution_count": 7,
   "id": "65da6f43",
   "metadata": {},
   "outputs": [],
   "source": [
    "from tensorflow.keras.layers import Input, Conv2D, MaxPooling2D, Flatten, Dense, Concatenate\n",
    "from tensorflow.keras.models import Model\n",
    "input_shape = (128, 128, 3)\n",
    "\n",
    "# RGB branch\n",
    "input_rgb = Input(shape=input_shape, name='rgb_input')\n",
    "x_rgb = Conv2D(32, (3,3), activation='relu')(input_rgb)\n",
    "x_rgb = MaxPooling2D((2,2))(x_rgb)\n",
    "x_rgb = Conv2D(64, (3,3), activation='relu')(x_rgb)\n",
    "x_rgb = MaxPooling2D((2,2))(x_rgb)\n",
    "x_rgb = Flatten()(x_rgb)\n",
    "\n",
    "# HSV branch\n",
    "input_hsv = Input(shape=input_shape, name='hsv_input')\n",
    "x_hsv = Conv2D(32, (3,3), activation='relu')(input_hsv)\n",
    "x_hsv = MaxPooling2D((2,2))(x_hsv)\n",
    "x_hsv = Conv2D(64, (3,3), activation='relu')(x_hsv)\n",
    "x_hsv = MaxPooling2D((2,2))(x_hsv)\n",
    "x_hsv = Flatten()(x_hsv)\n",
    "\n",
    "# Combine features\n",
    "combined = Concatenate()([x_rgb, x_hsv])\n",
    "dense = Dense(64, activation='relu')(combined)\n",
    "output = Dense(1, activation='linear')(dense)  # Linear for regression\n",
    "\n",
    "model = Model(inputs=[input_rgb, input_hsv], outputs=output)\n",
    "model.compile(optimizer='adam', loss='mse', metrics=['mae'])"
   ]
  },
  {
   "cell_type": "code",
   "execution_count": 11,
   "id": "65da0473",
   "metadata": {},
   "outputs": [
    {
     "name": "stdout",
     "output_type": "stream",
     "text": [
      "Epoch 1/20\n"
     ]
    },
    {
     "ename": "ValueError",
     "evalue": "in user code:\n\n    File \"c:\\Users\\Anshumaan Karna\\Desktop\\Neonatal Jaundice Prediction\\testenv\\lib\\site-packages\\keras\\src\\engine\\training.py\", line 1338, in train_function  *\n        return step_function(self, iterator)\n    File \"c:\\Users\\Anshumaan Karna\\Desktop\\Neonatal Jaundice Prediction\\testenv\\lib\\site-packages\\keras\\src\\engine\\training.py\", line 1322, in step_function  **\n        outputs = model.distribute_strategy.run(run_step, args=(data,))\n    File \"c:\\Users\\Anshumaan Karna\\Desktop\\Neonatal Jaundice Prediction\\testenv\\lib\\site-packages\\keras\\src\\engine\\training.py\", line 1303, in run_step  **\n        outputs = model.train_step(data)\n    File \"c:\\Users\\Anshumaan Karna\\Desktop\\Neonatal Jaundice Prediction\\testenv\\lib\\site-packages\\keras\\src\\engine\\training.py\", line 1080, in train_step\n        y_pred = self(x, training=True)\n    File \"c:\\Users\\Anshumaan Karna\\Desktop\\Neonatal Jaundice Prediction\\testenv\\lib\\site-packages\\keras\\src\\utils\\traceback_utils.py\", line 70, in error_handler\n        raise e.with_traceback(filtered_tb) from None\n    File \"c:\\Users\\Anshumaan Karna\\Desktop\\Neonatal Jaundice Prediction\\testenv\\lib\\site-packages\\keras\\src\\engine\\input_spec.py\", line 219, in assert_input_compatibility\n        raise ValueError(\n\n    ValueError: Layer \"model\" expects 2 input(s), but it received 0 input tensors. Inputs received: []\n",
     "output_type": "error",
     "traceback": [
      "\u001b[1;31m---------------------------------------------------------------------------\u001b[0m",
      "\u001b[1;31mValueError\u001b[0m                                Traceback (most recent call last)",
      "Cell \u001b[1;32mIn[11], line 1\u001b[0m\n\u001b[1;32m----> 1\u001b[0m \u001b[43mmodel\u001b[49m\u001b[38;5;241;43m.\u001b[39;49m\u001b[43mfit\u001b[49m\u001b[43m(\u001b[49m\n\u001b[0;32m      2\u001b[0m \u001b[43m    \u001b[49m\u001b[43m[\u001b[49m\u001b[43mrgb_images\u001b[49m\u001b[43m,\u001b[49m\u001b[43m \u001b[49m\u001b[43mhsv_images\u001b[49m\u001b[43m]\u001b[49m\u001b[43m,\u001b[49m\n\u001b[0;32m      3\u001b[0m \u001b[43m    \u001b[49m\u001b[43mlabels\u001b[49m\u001b[43m,\u001b[49m\n\u001b[0;32m      4\u001b[0m \u001b[43m    \u001b[49m\u001b[43mepochs\u001b[49m\u001b[38;5;241;43m=\u001b[39;49m\u001b[38;5;241;43m20\u001b[39;49m\u001b[43m,\u001b[49m\n\u001b[0;32m      5\u001b[0m \u001b[43m    \u001b[49m\u001b[43mbatch_size\u001b[49m\u001b[38;5;241;43m=\u001b[39;49m\u001b[38;5;241;43m32\u001b[39;49m\u001b[43m,\u001b[49m\n\u001b[0;32m      6\u001b[0m \u001b[43m    \u001b[49m\u001b[43mvalidation_split\u001b[49m\u001b[38;5;241;43m=\u001b[39;49m\u001b[38;5;241;43m0.2\u001b[39;49m\n\u001b[0;32m      7\u001b[0m \u001b[43m)\u001b[49m\n",
      "File \u001b[1;32mc:\\Users\\Anshumaan Karna\\Desktop\\Neonatal Jaundice Prediction\\testenv\\lib\\site-packages\\keras\\src\\utils\\traceback_utils.py:70\u001b[0m, in \u001b[0;36mfilter_traceback.<locals>.error_handler\u001b[1;34m(*args, **kwargs)\u001b[0m\n\u001b[0;32m     67\u001b[0m     filtered_tb \u001b[38;5;241m=\u001b[39m _process_traceback_frames(e\u001b[38;5;241m.\u001b[39m__traceback__)\n\u001b[0;32m     68\u001b[0m     \u001b[38;5;66;03m# To get the full stack trace, call:\u001b[39;00m\n\u001b[0;32m     69\u001b[0m     \u001b[38;5;66;03m# `tf.debugging.disable_traceback_filtering()`\u001b[39;00m\n\u001b[1;32m---> 70\u001b[0m     \u001b[38;5;28;01mraise\u001b[39;00m e\u001b[38;5;241m.\u001b[39mwith_traceback(filtered_tb) \u001b[38;5;28;01mfrom\u001b[39;00m\u001b[38;5;250m \u001b[39m\u001b[38;5;28;01mNone\u001b[39;00m\n\u001b[0;32m     71\u001b[0m \u001b[38;5;28;01mfinally\u001b[39;00m:\n\u001b[0;32m     72\u001b[0m     \u001b[38;5;28;01mdel\u001b[39;00m filtered_tb\n",
      "File \u001b[1;32mC:\\Users\\ANSHUM~1\\AppData\\Local\\Temp\\__autograph_generated_file307di11v.py:15\u001b[0m, in \u001b[0;36mouter_factory.<locals>.inner_factory.<locals>.tf__train_function\u001b[1;34m(iterator)\u001b[0m\n\u001b[0;32m     13\u001b[0m \u001b[38;5;28;01mtry\u001b[39;00m:\n\u001b[0;32m     14\u001b[0m     do_return \u001b[38;5;241m=\u001b[39m \u001b[38;5;28;01mTrue\u001b[39;00m\n\u001b[1;32m---> 15\u001b[0m     retval_ \u001b[38;5;241m=\u001b[39m ag__\u001b[38;5;241m.\u001b[39mconverted_call(ag__\u001b[38;5;241m.\u001b[39mld(step_function), (ag__\u001b[38;5;241m.\u001b[39mld(\u001b[38;5;28mself\u001b[39m), ag__\u001b[38;5;241m.\u001b[39mld(iterator)), \u001b[38;5;28;01mNone\u001b[39;00m, fscope)\n\u001b[0;32m     16\u001b[0m \u001b[38;5;28;01mexcept\u001b[39;00m:\n\u001b[0;32m     17\u001b[0m     do_return \u001b[38;5;241m=\u001b[39m \u001b[38;5;28;01mFalse\u001b[39;00m\n",
      "\u001b[1;31mValueError\u001b[0m: in user code:\n\n    File \"c:\\Users\\Anshumaan Karna\\Desktop\\Neonatal Jaundice Prediction\\testenv\\lib\\site-packages\\keras\\src\\engine\\training.py\", line 1338, in train_function  *\n        return step_function(self, iterator)\n    File \"c:\\Users\\Anshumaan Karna\\Desktop\\Neonatal Jaundice Prediction\\testenv\\lib\\site-packages\\keras\\src\\engine\\training.py\", line 1322, in step_function  **\n        outputs = model.distribute_strategy.run(run_step, args=(data,))\n    File \"c:\\Users\\Anshumaan Karna\\Desktop\\Neonatal Jaundice Prediction\\testenv\\lib\\site-packages\\keras\\src\\engine\\training.py\", line 1303, in run_step  **\n        outputs = model.train_step(data)\n    File \"c:\\Users\\Anshumaan Karna\\Desktop\\Neonatal Jaundice Prediction\\testenv\\lib\\site-packages\\keras\\src\\engine\\training.py\", line 1080, in train_step\n        y_pred = self(x, training=True)\n    File \"c:\\Users\\Anshumaan Karna\\Desktop\\Neonatal Jaundice Prediction\\testenv\\lib\\site-packages\\keras\\src\\utils\\traceback_utils.py\", line 70, in error_handler\n        raise e.with_traceback(filtered_tb) from None\n    File \"c:\\Users\\Anshumaan Karna\\Desktop\\Neonatal Jaundice Prediction\\testenv\\lib\\site-packages\\keras\\src\\engine\\input_spec.py\", line 219, in assert_input_compatibility\n        raise ValueError(\n\n    ValueError: Layer \"model\" expects 2 input(s), but it received 0 input tensors. Inputs received: []\n"
     ]
    }
   ],
   "source": [
    "model.fit(\n",
    "    [rgb_images, hsv_images],\n",
    "    labels,\n",
    "    epochs=20,\n",
    "    batch_size=32,\n",
    "    validation_split=0.2\n",
    ")\n"
   ]
  }
 ],
 "metadata": {
  "kernelspec": {
   "display_name": "testenv",
   "language": "python",
   "name": "python3"
  },
  "language_info": {
   "codemirror_mode": {
    "name": "ipython",
    "version": 3
   },
   "file_extension": ".py",
   "mimetype": "text/x-python",
   "name": "python",
   "nbconvert_exporter": "python",
   "pygments_lexer": "ipython3",
   "version": "3.8.10"
  }
 },
 "nbformat": 4,
 "nbformat_minor": 5
}
