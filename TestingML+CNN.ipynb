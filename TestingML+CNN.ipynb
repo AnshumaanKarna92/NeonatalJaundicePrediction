{
 "cells": [
  {
   "cell_type": "code",
   "execution_count": 89,
   "id": "0cc817a0",
   "metadata": {},
   "outputs": [
    {
     "name": "stdout",
     "output_type": "stream",
     "text": [
      "Index(['S NO.', 'BABY NAME', 'Sex', 'CR NUMBER', 'Total bilirubin',\n",
      "       'Direct bilirbin', 'Image_idx'],\n",
      "      dtype='object')\n",
      "Loaded 53 images.\n"
     ]
    }
   ],
   "source": [
    "import os\n",
    "import cv2\n",
    "from scipy.stats import skew, kurtosis\n",
    "import pandas as pd\n",
    "import numpy as np\n",
    "CSV_PATH = r\"IITKGP NEONATAL DATA\\Updated_CSV.csv\"\n",
    "IMG_DIR = r\"IITKGP NEONATAL DATA\\Photos\"\n",
    "df = pd.read_csv(CSV_PATH)\n",
    "print(df.columns)\n",
    "image_data = []\n",
    "labels = []\n",
    "TARGET_SIZE = (256, 256)\n",
    "for _, row in df.iterrows():\n",
    "    img_path = os.path.join(IMG_DIR, row[\"Image_idx\"])\n",
    "    img = cv2.imread(img_path)\n",
    "    if img is not None:\n",
    "        img = cv2.resize(img, TARGET_SIZE)\n",
    "        image_data.append(img)\n",
    "        labels.append(row[\"Total bilirubin\"])\n",
    "    else:\n",
    "        print(f\"Warning: Image not found or unreadable - {img_path}\")\n",
    "image_data = np.array(image_data)\n",
    "labels = np.array(labels)\n",
    "print(f\"Loaded {len(image_data)} images.\")"
   ]
  },
  {
   "cell_type": "code",
   "execution_count": 90,
   "id": "517b868e",
   "metadata": {},
   "outputs": [],
   "source": [
    "from tensorflow.keras.models import load_model\n",
    "\n",
    "model = load_model(\"ML+CNN_model.h5\")\n"
   ]
  },
  {
   "cell_type": "code",
   "execution_count": 91,
   "id": "b697de58",
   "metadata": {},
   "outputs": [
    {
     "name": "stdout",
     "output_type": "stream",
     "text": [
      "Model: \"model_5\"\n",
      "__________________________________________________________________________________________________\n",
      " Layer (type)                Output Shape                 Param #   Connected to                  \n",
      "==================================================================================================\n",
      " rgb_input (InputLayer)      [(None, 24, 1)]              0         []                            \n",
      "                                                                                                  \n",
      " hsv_input (InputLayer)      [(None, 24, 1)]              0         []                            \n",
      "                                                                                                  \n",
      " conv1d_48 (Conv1D)          (None, 24, 8)                32        ['rgb_input[0][0]']           \n",
      "                                                                                                  \n",
      " conv1d_52 (Conv1D)          (None, 24, 8)                32        ['hsv_input[0][0]']           \n",
      "                                                                                                  \n",
      " max_pooling1d_24 (MaxPooli  (None, 12, 8)                0         ['conv1d_48[0][0]']           \n",
      " ng1D)                                                                                            \n",
      "                                                                                                  \n",
      " max_pooling1d_28 (MaxPooli  (None, 12, 8)                0         ['conv1d_52[0][0]']           \n",
      " ng1D)                                                                                            \n",
      "                                                                                                  \n",
      " conv1d_49 (Conv1D)          (None, 12, 16)               400       ['max_pooling1d_24[0][0]']    \n",
      "                                                                                                  \n",
      " conv1d_53 (Conv1D)          (None, 12, 16)               400       ['max_pooling1d_28[0][0]']    \n",
      "                                                                                                  \n",
      " max_pooling1d_25 (MaxPooli  (None, 6, 16)                0         ['conv1d_49[0][0]']           \n",
      " ng1D)                                                                                            \n",
      "                                                                                                  \n",
      " max_pooling1d_29 (MaxPooli  (None, 6, 16)                0         ['conv1d_53[0][0]']           \n",
      " ng1D)                                                                                            \n",
      "                                                                                                  \n",
      " conv1d_50 (Conv1D)          (None, 6, 32)                1568      ['max_pooling1d_25[0][0]']    \n",
      "                                                                                                  \n",
      " conv1d_54 (Conv1D)          (None, 6, 32)                1568      ['max_pooling1d_29[0][0]']    \n",
      "                                                                                                  \n",
      " max_pooling1d_26 (MaxPooli  (None, 3, 32)                0         ['conv1d_50[0][0]']           \n",
      " ng1D)                                                                                            \n",
      "                                                                                                  \n",
      " max_pooling1d_30 (MaxPooli  (None, 3, 32)                0         ['conv1d_54[0][0]']           \n",
      " ng1D)                                                                                            \n",
      "                                                                                                  \n",
      " conv1d_51 (Conv1D)          (None, 3, 32)                3104      ['max_pooling1d_26[0][0]']    \n",
      "                                                                                                  \n",
      " conv1d_55 (Conv1D)          (None, 3, 32)                3104      ['max_pooling1d_30[0][0]']    \n",
      "                                                                                                  \n",
      " max_pooling1d_27 (MaxPooli  (None, 2, 32)                0         ['conv1d_51[0][0]']           \n",
      " ng1D)                                                                                            \n",
      "                                                                                                  \n",
      " max_pooling1d_31 (MaxPooli  (None, 2, 32)                0         ['conv1d_55[0][0]']           \n",
      " ng1D)                                                                                            \n",
      "                                                                                                  \n",
      " flatten_12 (Flatten)        (None, 64)                   0         ['max_pooling1d_27[0][0]']    \n",
      "                                                                                                  \n",
      " flatten_13 (Flatten)        (None, 64)                   0         ['max_pooling1d_31[0][0]']    \n",
      "                                                                                                  \n",
      " concatenate_6 (Concatenate  (None, 128)                  0         ['flatten_12[0][0]',          \n",
      " )                                                                   'flatten_13[0][0]']          \n",
      "                                                                                                  \n",
      " dense_18 (Dense)            (None, 64)                   8256      ['concatenate_6[0][0]']       \n",
      "                                                                                                  \n",
      " dense_19 (Dense)            (None, 32)                   2080      ['dense_18[0][0]']            \n",
      "                                                                                                  \n",
      " dense_20 (Dense)            (None, 1)                    33        ['dense_19[0][0]']            \n",
      "                                                                                                  \n",
      "==================================================================================================\n",
      "Total params: 20577 (80.38 KB)\n",
      "Trainable params: 20577 (80.38 KB)\n",
      "Non-trainable params: 0 (0.00 Byte)\n",
      "__________________________________________________________________________________________________\n"
     ]
    }
   ],
   "source": [
    "model.summary()\n"
   ]
  },
  {
   "cell_type": "code",
   "execution_count": 100,
   "id": "61d58979",
   "metadata": {},
   "outputs": [],
   "source": [
    "def white_balance(img):\n",
    "    avg_b = np.mean(img[:,:,0])\n",
    "    avg_g = np.mean(img[:,:,1])\n",
    "    avg_r = np.mean(img[:,:,2])\n",
    "    avg_gray = (avg_b + avg_g + avg_r) / 3\n",
    "    img[:,:,0] = np.minimum(img[:,:,0] * (avg_gray / avg_b), 255)\n",
    "    img[:,:,1] = np.minimum(img[:,:,1] * (avg_gray / avg_g), 255)\n",
    "    img[:,:,2] = np.minimum(img[:,:,2] * (avg_gray / avg_r), 255)\n",
    "    return img.astype(np.uint8)\n",
    "\n",
    "def crop_center(img, fraction=0.35):\n",
    "    h, w = img.shape[:2]\n",
    "    ch, cw = int(h * fraction), int(w * fraction)\n",
    "    start_x, start_y = (w - cw) // 2, (h - ch) // 2\n",
    "    return img[start_y:start_y+ch, start_x:start_x+cw]\n",
    "\n",
    "def select_chest_area_manual(image):\n",
    "    \"\"\"\n",
    "    Manually select chest area using OpenCV ROI selector.\n",
    "    \"\"\"\n",
    "    clone = image.copy()\n",
    "    cv2.namedWindow(\"Select Chest Area\", cv2.WINDOW_NORMAL)\n",
    "    bbox = cv2.selectROI(\"Select Chest Area\", clone, fromCenter=False, showCrosshair=True)\n",
    "    cv2.destroyAllWindows()\n",
    "    x, y, w, h = bbox\n",
    "    if w == 0 or h == 0:\n",
    "        print(\"No region selected. Skipping this image.\")\n",
    "        return None\n",
    "    return image[y:y+h, x:x+w]\n",
    "\n",
    "def extract_color_features(skin_img):\n",
    "    features = {}\n",
    "    b, g, r = cv2.split(skin_img)\n",
    "    features['rgb'] = [r, g, b]\n",
    "    hsv = cv2.cvtColor(skin_img, cv2.COLOR_BGR2HSV)\n",
    "    h, s, v = cv2.split(hsv)\n",
    "    features['hsv'] = [h, s, v]\n",
    "    return features\n",
    "\n",
    "def extract_pixel_statistics(channel):\n",
    "    mask = channel > 0\n",
    "    if np.sum(mask) == 0:\n",
    "        return np.zeros(8)\n",
    "    pixels = channel[mask]\n",
    "    return np.array([\n",
    "        np.mean(pixels),\n",
    "        np.std(pixels),\n",
    "        skew(pixels),\n",
    "        kurtosis(pixels),\n",
    "        np.median(pixels),\n",
    "        np.percentile(pixels, 25),\n",
    "        np.percentile(pixels, 75),\n",
    "        np.max(pixels) - np.min(pixels)\n",
    "    ])\n",
    "\n",
    "def preprocess_images_dual(images):\n",
    "    rgb_features_all = []\n",
    "    hsv_features_all = []\n",
    "    for img in images:\n",
    "        balanced = white_balance(img)\n",
    "        skin = select_chest_area_manual(balanced)\n",
    "        color_features = extract_color_features(skin)\n",
    "        rgb_stats = []\n",
    "        hsv_stats = []\n",
    "        for channel in color_features['rgb']:\n",
    "            rgb_stats.extend(extract_pixel_statistics(channel))\n",
    "        for channel in color_features['hsv']:\n",
    "            hsv_stats.extend(extract_pixel_statistics(channel))\n",
    "        rgb_features_all.append(rgb_stats)\n",
    "        hsv_features_all.append(hsv_stats)\n",
    "    return np.array(rgb_features_all), np.array(hsv_features_all)"
   ]
  },
  {
   "cell_type": "code",
   "execution_count": 101,
   "id": "75f7fa56",
   "metadata": {},
   "outputs": [],
   "source": [
    "rgb_features, hsv_features = preprocess_images_dual(image_data)\n"
   ]
  },
  {
   "cell_type": "code",
   "execution_count": 102,
   "id": "8a01811f",
   "metadata": {},
   "outputs": [],
   "source": [
    "from sklearn.preprocessing import MinMaxScaler\n",
    "scaler_rgb = MinMaxScaler()\n",
    "scaler_hsv = MinMaxScaler()\n",
    "\n",
    "rgb_features_scaled = scaler_rgb.fit_transform(rgb_features)\n",
    "hsv_features_scaled = scaler_hsv.fit_transform(hsv_features)\n",
    "\n",
    "# Reshape the features\n",
    "rgb_features_reshaped = rgb_features_scaled.reshape(-1, 24, 1)\n",
    "hsv_features_reshaped = hsv_features_scaled.reshape(-1, 24, 1)\n"
   ]
  },
  {
   "cell_type": "code",
   "execution_count": 109,
   "id": "b9a3c83c",
   "metadata": {},
   "outputs": [
    {
     "name": "stdout",
     "output_type": "stream",
     "text": [
      "1/1 [==============================] - 0s 19ms/step\n",
      "Prediction: 22.366682\n",
      "20.7\n"
     ]
    }
   ],
   "source": [
    "sample_rgb = rgb_features_scaled[24].reshape(1, 24, 1)\n",
    "sample_hsv = hsv_features_scaled[24].reshape(1, 24, 1)\n",
    "\n",
    "pred = model.predict([sample_rgb, sample_hsv]).flatten()[0]\n",
    "print(\"Prediction:\", pred)\n",
    "print(labels[24])"
   ]
  },
  {
   "cell_type": "code",
   "execution_count": 104,
   "id": "23e1f9af",
   "metadata": {},
   "outputs": [
    {
     "name": "stdout",
     "output_type": "stream",
     "text": [
      "2/2 [==============================] - 0s 2ms/step\n"
     ]
    }
   ],
   "source": [
    "predictions = model.predict([rgb_features_reshaped, hsv_features_reshaped]).flatten()\n"
   ]
  },
  {
   "cell_type": "code",
   "execution_count": 113,
   "id": "f8567e9c",
   "metadata": {},
   "outputs": [
    {
     "name": "stdout",
     "output_type": "stream",
     "text": [
      "Predicted Value\t|\tReal Value\n",
      "------------------------------\n",
      "18.0425\t\t|\t9.9400\n",
      "2.1745\t\t|\t7.5000\n",
      "5.3417\t\t|\t8.3200\n",
      "7.9684\t\t|\t8.5200\n",
      "3.1221\t\t|\t14.2000\n",
      "3.7257\t\t|\t7.4500\n",
      "3.5148\t\t|\t10.4100\n",
      "7.0670\t\t|\t13.9100\n",
      "8.7558\t\t|\t9.1200\n",
      "7.3401\t\t|\t11.5400\n",
      "3.3474\t\t|\t14.8100\n",
      "10.0665\t\t|\t16.7000\n",
      "10.8627\t\t|\t10.1500\n",
      "3.2598\t\t|\t16.1900\n",
      "7.6708\t\t|\t9.8900\n",
      "4.5299\t\t|\t9.1800\n",
      "9.7882\t\t|\t10.7800\n",
      "3.2109\t\t|\t10.6500\n",
      "16.6532\t\t|\t11.6700\n",
      "10.8156\t\t|\t8.7700\n",
      "10.3478\t\t|\t9.3000\n",
      "4.0129\t\t|\t7.6000\n",
      "14.9773\t\t|\t11.3600\n",
      "15.6908\t\t|\t20.6000\n",
      "22.3667\t\t|\t20.7000\n",
      "12.3002\t\t|\t12.7000\n",
      "5.7325\t\t|\t9.5000\n",
      "5.5552\t\t|\t6.9800\n",
      "9.0465\t\t|\t6.9800\n",
      "3.4547\t\t|\t17.4000\n",
      "5.2843\t\t|\t9.4300\n",
      "7.1720\t\t|\t12.1700\n",
      "5.5616\t\t|\t12.7500\n",
      "4.1088\t\t|\t9.7000\n",
      "5.5939\t\t|\t7.0600\n",
      "16.9543\t\t|\t8.4500\n",
      "17.7800\t\t|\t12.5000\n",
      "8.9844\t\t|\t11.3700\n",
      "8.8481\t\t|\t10.3000\n",
      "10.9328\t\t|\t10.6500\n",
      "8.7308\t\t|\t10.2400\n",
      "11.1507\t\t|\t15.8400\n",
      "11.6430\t\t|\t9.9800\n",
      "3.7304\t\t|\t8.9100\n",
      "4.9432\t\t|\t8.7400\n",
      "11.8663\t\t|\t8.7900\n",
      "20.6838\t\t|\t10.1500\n",
      "6.7820\t\t|\t10.8000\n",
      "13.4746\t\t|\t12.9700\n",
      "15.7245\t\t|\t16.7900\n",
      "14.6122\t\t|\t15.5900\n",
      "9.2675\t\t|\t12.2200\n",
      "17.9206\t\t|\t8.1700\n"
     ]
    }
   ],
   "source": [
    "print(\"Predicted Value\\t|\\tReal Value\")\n",
    "print(\"-\" * 30)\n",
    "for pred, real in zip(predictions, labels):\n",
    "    print(f\"{pred:.4f}\\t\\t|\\t{real:.4f}\")\n"
   ]
  },
  {
   "cell_type": "code",
   "execution_count": 114,
   "id": "113c3307",
   "metadata": {},
   "outputs": [
    {
     "name": "stdout",
     "output_type": "stream",
     "text": [
      "Mean Absolute Error: 4.3693\n",
      "R² Score: -1.8733\n"
     ]
    }
   ],
   "source": [
    "from sklearn.metrics import mean_absolute_error, r2_score\n",
    "\n",
    "mae = mean_absolute_error(labels, predictions)\n",
    "r2 = r2_score(labels, predictions)\n",
    "\n",
    "print(f\"Mean Absolute Error: {mae:.4f}\")\n",
    "print(f\"R² Score: {r2:.4f}\")\n"
   ]
  },
  {
   "cell_type": "code",
   "execution_count": 115,
   "id": "1fcbb673",
   "metadata": {},
   "outputs": [
    {
     "data": {
      "image/png": "[encoded data removed]",
      "text/plain": [
       "<Figure size 1000x600 with 1 Axes>"
      ]
     },
     "metadata": {},
     "output_type": "display_data"
    }
   ],
   "source": [
    "import matplotlib.pyplot as plt\n",
    "plt.figure(figsize=(10,6))\n",
    "plt.scatter(labels, predictions, alpha=0.5)\n",
    "plt.plot([min(labels), max(labels)], [min(labels), max(labels)], 'r--')\n",
    "plt.xlabel('Actual Bilirubin (mg/dL)')\n",
    "plt.ylabel('Predicted Bilirubin (mg/dL)')\n",
    "plt.title(f'Prediction Performance (R² = {r2:.2f})')\n",
    "plt.grid(True)\n",
    "plt.show()"
   ]
  }
 ],
 "metadata": {
  "kernelspec": {
   "display_name": ".venv",
   "language": "python",
   "name": "python3"
  },
  "language_info": {
   "codemirror_mode": {
    "name": "ipython",
    "version": 3
   },
   "file_extension": ".py",
   "mimetype": "text/x-python",
   "name": "python",
   "nbconvert_exporter": "python",
   "pygments_lexer": "ipython3",
   "version": "3.8.10"
  }
 },
 "nbformat": 4,
 "nbformat_minor": 5
}
